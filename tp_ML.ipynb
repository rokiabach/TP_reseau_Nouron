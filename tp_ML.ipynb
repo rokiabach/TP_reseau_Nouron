{
  "cells": [
    {
      "cell_type": "code",
      "execution_count": null,
      "id": "e3242405-f5db-47de-8707-c369b6988759",
      "metadata": {
        "id": "e3242405-f5db-47de-8707-c369b6988759"
      },
      "outputs": [],
      "source": [
        "import numpy as np\n",
        "\n",
        "#class layers\n",
        "class Layer:\n",
        "    def forward_propagation(self, input_data):\n",
        "        raise NotImplementedError\n",
        "\n",
        "    def backward_propagation(self, output_error, learning_rate):\n",
        "        raise NotImplementedError\n",
        "\n"
      ]
    },
    {
      "cell_type": "code",
      "source": [
        "# Fully Connected Layer\n",
        "class FCLayer(Layer):\n",
        "    def __init__(self, input_size, output_size):\n",
        "        # Initialisation des poids avec He initialization\n",
        "        self.weights = np.random.randn(input_size, output_size) * np.sqrt(2. / input_size)\n",
        "        self.bias = np.zeros((1, output_size))\n",
        "\n",
        "    def forward_propagation(self, input_data):\n",
        "        self.input = input_data\n",
        "        self.output = np.dot(self.input, self.weights) + self.bias\n",
        "        return self.output\n",
        "\n",
        "    def backward_propagation(self, output_error, learning_rate):\n",
        "        input_error = np.dot(output_error, self.weights.T)\n",
        "        weights_error = np.dot(self.input.T, output_error)\n",
        "\n",
        "        self.weights -= learning_rate * weights_error\n",
        "        self.bias -= learning_rate * np.sum(output_error, axis=0, keepdims=True)\n",
        "\n",
        "        return input_error"
      ],
      "metadata": {
        "id": "NUccUuN3IgqQ"
      },
      "id": "NUccUuN3IgqQ",
      "execution_count": null,
      "outputs": []
    },
    {
      "cell_type": "code",
      "execution_count": null,
      "id": "0279b4d5-59be-4e79-8c58-3836b3813438",
      "metadata": {
        "id": "0279b4d5-59be-4e79-8c58-3836b3813438"
      },
      "outputs": [],
      "source": [
        "# Activation Layer\n",
        "class ActivationLayer(Layer):\n",
        "    def __init__(self, activation, activation_prime):\n",
        "        self.activation = activation\n",
        "        self.activation_prime = activation_prime\n",
        "\n",
        "    def forward_propagation(self, input_data):\n",
        "        self.input = input_data\n",
        "        self.output = self.activation(self.input)\n",
        "        return self.output\n",
        "\n",
        "    def backward_propagation(self, output_error, learning_rate):\n",
        "        return output_error * self.activation_prime(self.input)"
      ]
    },
    {
      "cell_type": "code",
      "execution_count": null,
      "id": "a6a6d0eb-6b6a-4780-84e7-c5032107a0d7",
      "metadata": {
        "id": "a6a6d0eb-6b6a-4780-84e7-c5032107a0d7"
      },
      "outputs": [],
      "source": [
        "# Sigmoid activation\n",
        "def sigmoid(x):\n",
        "    return 1 / (1 + np.exp(-x))\n",
        "\n",
        "def sigmoid_prime(x):\n",
        "    s = sigmoid(x)\n",
        "    return s * (1 - s)"
      ]
    },
    {
      "cell_type": "code",
      "execution_count": null,
      "id": "159ac2d5-105a-4fb3-b967-92a9bf993ded",
      "metadata": {
        "id": "159ac2d5-105a-4fb3-b967-92a9bf993ded"
      },
      "outputs": [],
      "source": [
        "# Mean Squared Error\n",
        "def mse(y_true, y_pred):\n",
        "    return np.mean(np.power(y_true - y_pred, 2))\n",
        "\n",
        "def mse_prime(y_true, y_pred):\n",
        "    return 2 * (y_pred - y_true) / y_true.size"
      ]
    },
    {
      "cell_type": "code",
      "execution_count": null,
      "id": "9862af66-c926-4e3b-a213-3ee61224cf8c",
      "metadata": {
        "id": "9862af66-c926-4e3b-a213-3ee61224cf8c"
      },
      "outputs": [],
      "source": [
        "# Network class\n",
        "class Network:\n",
        "    def __init__(self):\n",
        "        self.layers = []\n",
        "\n",
        "    def add(self, layer):\n",
        "        self.layers.append(layer)\n",
        "\n",
        "    def predict(self, input_data):\n",
        "        output = input_data\n",
        "        for layer in self.layers:\n",
        "            output = layer.forward_propagation(output)\n",
        "        return output\n",
        "\n",
        "    def train(self, X_train, y_train, loss, loss_prime, epochs=1000, learning_rate=0.1, verbose=True):\n",
        "        for epoch in range(epochs):\n",
        "            total_loss = 0\n",
        "            for x, y in zip(X_train, y_train):\n",
        "                # Forward pass\n",
        "                output = self.predict(x.reshape(1, -1))\n",
        "\n",
        "                # Compute loss\n",
        "                total_loss += loss(y.reshape(1, -1), output)\n",
        "\n",
        "                # Backward pass\n",
        "                error = loss_prime(y.reshape(1, -1), output)\n",
        "                for layer in reversed(self.layers):\n",
        "                    error = layer.backward_propagation(error, learning_rate)\n",
        "\n",
        "            if verbose and (epoch+1) % 1000 == 0:\n",
        "                print(f\"Epoch {epoch+1}, Loss: {total_loss / len(X_train):.6f}\")"
      ]
    },
    {
      "cell_type": "code",
      "execution_count": null,
      "id": "1d127b65-2af1-4238-b6ec-01e7b98a5660",
      "metadata": {
        "id": "1d127b65-2af1-4238-b6ec-01e7b98a5660",
        "outputId": "e4454241-1c88-4e17-891e-ae2b7428c6c1"
      },
      "outputs": [
        {
          "name": "stdout",
          "output_type": "stream",
          "text": [
            "Epoch 1000, Loss: 0.000887\n",
            "Epoch 2000, Loss: 0.000242\n",
            "Epoch 3000, Loss: 0.000135\n",
            "Epoch 4000, Loss: 0.000093\n",
            "Epoch 5000, Loss: 0.000070\n",
            "Epoch 6000, Loss: 0.000056\n",
            "Epoch 7000, Loss: 0.000047\n",
            "Epoch 8000, Loss: 0.000040\n",
            "Epoch 9000, Loss: 0.000035\n",
            "Epoch 10000, Loss: 0.000031\n",
            "\n",
            "Résultats finaux:\n",
            "Input: [0 0], Prédiction: 0.0048 (Binaire: 0)\n",
            "Input: [0 1], Prédiction: 0.9948 (Binaire: 1)\n",
            "Input: [1 0], Prédiction: 0.9944 (Binaire: 1)\n",
            "Input: [1 1], Prédiction: 0.0065 (Binaire: 0)\n"
          ]
        }
      ],
      "source": [
        "# Données XOR\n",
        "X_train = np.array([\n",
        "    [0, 0],\n",
        "    [0, 1],\n",
        "    [1, 0],\n",
        "    [1, 1]\n",
        "])\n",
        "\n",
        "y_train = np.array([\n",
        "    [0],\n",
        "    [1],\n",
        "    [1],\n",
        "    [0]\n",
        "])\n",
        "\n",
        "# Création du réseau\n",
        "net = Network()\n",
        "net.add(FCLayer(2, 5))              # Couche d'entrée\n",
        "net.add(ActivationLayer(sigmoid, sigmoid_prime))\n",
        "net.add(FCLayer(5, 5))               # Couche cachée\n",
        "net.add(ActivationLayer(sigmoid, sigmoid_prime))\n",
        "net.add(FCLayer(5, 1))               # Couche de sortie\n",
        "net.add(ActivationLayer(sigmoid, sigmoid_prime))\n",
        "\n",
        "# Entraînement\n",
        "net.train(X_train, y_train, mse, mse_prime, epochs=10000, learning_rate=0.5)\n",
        "\n",
        "# Prédictions\n",
        "print(\"\\nRésultats finaux:\")\n",
        "for x in X_train:\n",
        "    prediction = net.predict(x.reshape(1, -1))\n",
        "    binary_pred = 1 if prediction[0][0] > 0.5 else 0\n",
        "    print(f\"Input: {x}, Prédiction: {prediction[0][0]:.4f} (Binaire: {binary_pred})\")\n"
      ]
    },
    {
      "cell_type": "code",
      "execution_count": null,
      "id": "f442f20a-d03e-4771-9a4e-6577f2311796",
      "metadata": {
        "id": "f442f20a-d03e-4771-9a4e-6577f2311796"
      },
      "outputs": [],
      "source": []
    }
  ],
  "metadata": {
    "kernelspec": {
      "display_name": "Python 3 (ipykernel)",
      "language": "python",
      "name": "python3"
    },
    "language_info": {
      "codemirror_mode": {
        "name": "ipython",
        "version": 3
      },
      "file_extension": ".py",
      "mimetype": "text/x-python",
      "name": "python",
      "nbconvert_exporter": "python",
      "pygments_lexer": "ipython3",
      "version": "3.12.7"
    },
    "colab": {
      "provenance": []
    }
  },
  "nbformat": 4,
  "nbformat_minor": 5
}